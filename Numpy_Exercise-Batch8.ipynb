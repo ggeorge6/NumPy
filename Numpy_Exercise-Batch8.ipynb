{
 "cells": [
  {
   "cell_type": "markdown",
   "metadata": {},
   "source": [
    "# Numpy Exercise  <img src = \"numpy1.png\">\n",
    "###### Authored by T.K.Senthil Kumar"
   ]
  },
  {
   "cell_type": "markdown",
   "metadata": {},
   "source": [
    "#### 1. Create a numpy array with the number of elements equals your age. The value of array elements is a random number between 10 to your age "
   ]
  },
  {
   "cell_type": "code",
   "execution_count": 1,
   "metadata": {},
   "outputs": [
    {
     "name": "stdout",
     "output_type": "stream",
     "text": [
      "Age is :  35\n",
      "\n",
      " [34 33 19 20 33 23 26 26 33 16 14 13 10 24 24 11 30 17 32 20 18 23 23 21\n",
      " 29 27 14 24 32 31 22 19 10 11 15]\n",
      "\n",
      "Size of array is : 35\n"
     ]
    }
   ],
   "source": [
    "#Solution\n",
    "import numpy as np\n",
    "age=35\n",
    "print('Age is : ',age)\n",
    "ar1 = np.random.randint(10,age,age)\n",
    "print('\\n',ar1)\n",
    "print('\\nSize of array is :',ar1.size)\n"
   ]
  },
  {
   "cell_type": "markdown",
   "metadata": {},
   "source": [
    "#### 2. Create a numpy array between 1 to 50 with the span(space) of 2 and print the length of the array"
   ]
  },
  {
   "cell_type": "code",
   "execution_count": 2,
   "metadata": {},
   "outputs": [
    {
     "name": "stdout",
     "output_type": "stream",
     "text": [
      "\n",
      " [ 1  3  5  7  9 11 13 15 17 19 21 23 25 27 29 31 33 35 37 39 41 43 45 47\n",
      " 49]\n",
      "\n",
      "Size of array is : 25\n"
     ]
    }
   ],
   "source": [
    "# Solution\n",
    "ar2=np.arange(1,50,2) \n",
    "print('\\n',ar2)\n",
    "print('\\nSize of array is :',ar2.size)\n"
   ]
  },
  {
   "cell_type": "markdown",
   "metadata": {},
   "source": [
    "#### 3. Create an equally spaced numpy array with 27 elements between 4 and 7 "
   ]
  },
  {
   "cell_type": "code",
   "execution_count": 3,
   "metadata": {},
   "outputs": [
    {
     "name": "stdout",
     "output_type": "stream",
     "text": [
      "\n",
      " [4.         4.11538462 4.23076923 4.34615385 4.46153846 4.57692308\n",
      " 4.69230769 4.80769231 4.92307692 5.03846154 5.15384615 5.26923077\n",
      " 5.38461538 5.5        5.61538462 5.73076923 5.84615385 5.96153846\n",
      " 6.07692308 6.19230769 6.30769231 6.42307692 6.53846154 6.65384615\n",
      " 6.76923077 6.88461538 7.        ]\n",
      "\n",
      "Size of array is : 27\n"
     ]
    }
   ],
   "source": [
    "# Solution\n",
    "\n",
    "ar3=np.linspace(4,7,num=27) \n",
    "print('\\n',ar3)\n",
    "print('\\nSize of array is :',ar3.size)\n"
   ]
  },
  {
   "cell_type": "markdown",
   "metadata": {},
   "source": [
    "#### 4. Create a matrix of size (5 x 4) with random numbers and round off the each elements by only 2 fractional points."
   ]
  },
  {
   "cell_type": "code",
   "execution_count": 4,
   "metadata": {},
   "outputs": [
    {
     "name": "stdout",
     "output_type": "stream",
     "text": [
      "\n",
      " [[0.84 0.75 0.63 0.42]\n",
      " [0.83 0.96 0.22 0.33]\n",
      " [0.86 0.05 0.71 0.37]\n",
      " [0.04 0.33 0.07 0.03]\n",
      " [0.61 0.2  0.44 0.76]]\n",
      "\n",
      "Shape of array is : (5, 4)\n"
     ]
    }
   ],
   "source": [
    "# Solution\n",
    "ar4= np.random.rand(5,4)\n",
    "ar4_r= np.around(ar4,2)\n",
    "\n",
    "print('\\n',ar4_r)\n",
    "print('\\nShape of array is :',ar4_r.shape)\n",
    "\n",
    "\n",
    "\n"
   ]
  },
  {
   "cell_type": "markdown",
   "metadata": {},
   "source": [
    "#### 5. Create a matrix of size (5x5) with random integers between 5 to 15"
   ]
  },
  {
   "cell_type": "code",
   "execution_count": 5,
   "metadata": {},
   "outputs": [
    {
     "name": "stdout",
     "output_type": "stream",
     "text": [
      "\n",
      " [[ 6  6  7  8  8]\n",
      " [10  5 14 10 12]\n",
      " [ 5  6  5  8 12]\n",
      " [10  8  8  9 11]\n",
      " [ 8 14 13 10  7]]\n",
      "\n",
      "Size of array is : 25\n",
      "\n",
      "Shape of array is : (5, 5)\n"
     ]
    }
   ],
   "source": [
    "# Solution\n",
    "ar5 = np.random.randint(5,15,(5,5))\n",
    "print('\\n',ar5)\n",
    "print('\\nSize of array is :',ar5.size)\n",
    "print('\\nShape of array is :',ar5.shape)\n",
    "\n"
   ]
  },
  {
   "cell_type": "markdown",
   "metadata": {},
   "source": [
    "#### 6. Create the one dimensional array of zeros of random length below 20 with the data type int32"
   ]
  },
  {
   "cell_type": "code",
   "execution_count": 6,
   "metadata": {},
   "outputs": [
    {
     "name": "stdout",
     "output_type": "stream",
     "text": [
      "[0 0 0 0 0 0 0 0 0 0 0 0 0 0 0]\n",
      "\n",
      "Size of array is : 15\n",
      "\n",
      "Type of array is : int32\n"
     ]
    }
   ],
   "source": [
    "# Solution\n",
    "\n",
    "ar6=np.zeros(np.random.randint(1,20),dtype='int32')\n",
    "print(ar6)\n",
    "print('\\nSize of array is :',ar6.size)\n",
    "print('\\nType of array is :',ar6.dtype)\n",
    "\n",
    "\n"
   ]
  },
  {
   "cell_type": "markdown",
   "metadata": {},
   "source": [
    "#### 7. Create a two dimensional array of ones of random row and column lengths with the data type of float32 "
   ]
  },
  {
   "cell_type": "code",
   "execution_count": 7,
   "metadata": {},
   "outputs": [
    {
     "name": "stdout",
     "output_type": "stream",
     "text": [
      "[[1. 1.]\n",
      " [1. 1.]\n",
      " [1. 1.]]\n",
      "\n",
      "Size of array is : 6\n",
      "\n",
      "Type of array is : float32\n"
     ]
    }
   ],
   "source": [
    "# Solution\n",
    "ar7=np.ones((np.random.randint(1,4),np.random.randint(1,4)),dtype='float32')\n",
    "print(ar7)\n",
    "print('\\nSize of array is :',ar7.size)\n",
    "print('\\nType of array is :',ar7.dtype)\n",
    "\n",
    "\n",
    "\n"
   ]
  },
  {
   "cell_type": "markdown",
   "metadata": {},
   "source": [
    "#### 8. Create a matrix exactly as same as shown below and print its shape, type and dtype\n",
    "<img src = \"np_mat1.png\">"
   ]
  },
  {
   "cell_type": "code",
   "execution_count": 8,
   "metadata": {},
   "outputs": [
    {
     "name": "stdout",
     "output_type": "stream",
     "text": [
      "[[ 9 25 50 34 45]\n",
      " [ 3 34 34 65  2]\n",
      " [ 5  7  3 76  3]\n",
      " [ 7  8  6 54  6]\n",
      " [23 12  8  5  8]]\n",
      "Array data type is : int32\n",
      "Array shape is     : (5, 5)\n",
      "m1 matrix type is  : <class 'numpy.matrix'>\n"
     ]
    }
   ],
   "source": [
    "# Solution\n",
    "ar  = np.array([9,25,50,34,45,3,34,34,65,2,5,7,3,76,3,7,8,6,54,6,23,12,8,5,8],dtype='i')\n",
    "ar8 = ar.reshape(5,5)\n",
    "print(ar8)\n",
    "print('Array data type is :',ar8.dtype)\n",
    "print('Array shape is     :',ar8.shape)\n",
    "\n",
    "m1 = np.matrix(ar8)\n",
    "print('m1 matrix type is  :',type(m1))\n",
    "\n",
    "\n"
   ]
  },
  {
   "cell_type": "markdown",
   "metadata": {},
   "source": [
    "#### 9. Access the center pixel of the matrix defined in the question no 8 ( Don't enter the row and column index explicitely)"
   ]
  },
  {
   "cell_type": "code",
   "execution_count": 9,
   "metadata": {},
   "outputs": [
    {
     "name": "stdout",
     "output_type": "stream",
     "text": [
      "[[ 9 25 50 34 45]\n",
      " [ 3 34 34 65  2]\n",
      " [ 5  7  3 76  3]\n",
      " [ 7  8  6 54  6]\n",
      " [23 12  8  5  8]]\n",
      "\n",
      "Diagonal of the matrix is\n",
      " [[ 9 34  3 54  8]]\n",
      "\n",
      "Size of diagonal array is: 5\n",
      "\n",
      "Middle pixel of Main array is :  3\n"
     ]
    }
   ],
   "source": [
    "# Solution\n",
    "print(m1)\n",
    "m1_d = np.matrix.diagonal(m1) \n",
    "print('\\nDiagonal of the matrix is\\n',m1_d)\n",
    "print('\\nSize of diagonal array is:', m1_d.size)\n",
    "m2_dc=int(np.round(m1_d.size/2))\n",
    "\n",
    "print('\\nMiddle pixel of Main array is : ',m1_d[0,m2_dc])\n"
   ]
  },
  {
   "cell_type": "markdown",
   "metadata": {},
   "source": [
    "#### 10. Print the all the elements of 3rd row of the matrix"
   ]
  },
  {
   "cell_type": "code",
   "execution_count": 10,
   "metadata": {},
   "outputs": [
    {
     "name": "stdout",
     "output_type": "stream",
     "text": [
      "[[ 5  7  3 76  3]]\n"
     ]
    }
   ],
   "source": [
    "# Solution\n",
    "\n",
    "\n",
    "print(m1[2])\n",
    "\n",
    "        \n",
    "    \n",
    "\n"
   ]
  },
  {
   "cell_type": "markdown",
   "metadata": {},
   "source": [
    "#### 11. Print the all the elements of 4th columns of the matrix"
   ]
  },
  {
   "cell_type": "code",
   "execution_count": 11,
   "metadata": {},
   "outputs": [
    {
     "name": "stdout",
     "output_type": "stream",
     "text": [
      "[[34]\n",
      " [65]\n",
      " [76]\n",
      " [54]\n",
      " [ 5]]\n"
     ]
    }
   ],
   "source": [
    "# Solution\n",
    "    \n",
    "print(m1[:,3])\n"
   ]
  },
  {
   "cell_type": "markdown",
   "metadata": {},
   "source": [
    "#### 12. Print the 4 corner pixels of the matrix"
   ]
  },
  {
   "cell_type": "code",
   "execution_count": 12,
   "metadata": {},
   "outputs": [
    {
     "name": "stdout",
     "output_type": "stream",
     "text": [
      "\n",
      " matrix is :\n",
      " [[ 9 25 50 34 45]\n",
      " [ 3 34 34 65  2]\n",
      " [ 5  7  3 76  3]\n",
      " [ 7  8  6 54  6]\n",
      " [23 12  8  5  8]]\n",
      "\n",
      "top left  corner pixel is : 9\n",
      "\n",
      "top right corner pixel is : 45\n",
      "\n",
      "bottom right corner pixel is : 23\n",
      "\n",
      "bottom left corner pixel is : 8\n"
     ]
    }
   ],
   "source": [
    "# Solution\n",
    "\n",
    "print('\\n matrix is :\\n',m1)\n",
    "print('\\ntop left  corner pixel is :',m1[0,0])\n",
    "print('\\ntop right corner pixel is :',m1[0,4])\n",
    "print('\\nbottom right corner pixel is :',m1[4,0])\n",
    "print('\\nbottom left corner pixel is :',m1[4,4])"
   ]
  },
  {
   "cell_type": "markdown",
   "metadata": {},
   "source": [
    "#### 13. Create three matrix m1,m2,m3 with the elements grouped in the figure below\n",
    "<img src = \"np_mat2.png\">"
   ]
  },
  {
   "cell_type": "code",
   "execution_count": 13,
   "metadata": {},
   "outputs": [
    {
     "name": "stdout",
     "output_type": "stream",
     "text": [
      "[[ 9 25 50 34 45]\n",
      " [ 3 34 34 65  2]\n",
      " [ 5  7  3 76  3]\n",
      " [ 7  8  6 54  6]\n",
      " [23 12  8  5  8]]\n",
      "\n",
      " Matrix M1 is :\n",
      " [[50 34]\n",
      " [34 65]]\n",
      "2\n",
      "\n",
      " Matrix M2 is :\n",
      " [[ 7  8]\n",
      " [23 12]]\n",
      "\n",
      " Matrix M3 is :\n",
      " [[ 3 76  3]\n",
      " [ 6 54  6]\n",
      " [ 8  5  8]]\n"
     ]
    }
   ],
   "source": [
    "# Solution \n",
    "import numpy as np\n",
    "print(ar8)\n",
    "\n",
    "m1a=m1[:2,2:4]\n",
    "print('\\n Matrix M1 is :\\n',m1a)\n",
    "print(m1a.ndim)\n",
    "m1b=m1[3:5,0:2]\n",
    "print('\\n Matrix M2 is :\\n',m1b)\n",
    "m1c=m1[2:,2:]\n",
    "print('\\n Matrix M3 is :\\n',m1c)\n"
   ]
  },
  {
   "cell_type": "code",
   "execution_count": 14,
   "metadata": {},
   "outputs": [],
   "source": [
    "# 14. Reshape all the three matrix segmented in the above task in to three  1-dimensional vector."
   ]
  },
  {
   "cell_type": "code",
   "execution_count": 15,
   "metadata": {},
   "outputs": [
    {
     "name": "stdout",
     "output_type": "stream",
     "text": [
      "\n",
      " 1-dmin m1 is :\n",
      " [50 34 34 65]\n",
      "\n",
      " 1-dmin m2 is :\n",
      " [ 7  8 23 12]\n",
      "1\n",
      "\n",
      " 1-dmin m3 is :\n",
      " [ 3 76  3  6 54  6  8  5  8]\n"
     ]
    }
   ],
   "source": [
    "# Solution\n",
    "\n",
    "m1a_f=np.asarray(m1a).flatten()\n",
    "print('\\n 1-dmin m1 is :\\n',m1a_f)\n",
    "m1b_f=np.asarray(m1b).flatten()\n",
    "print('\\n 1-dmin m2 is :\\n',m1b_f)\n",
    "print(m1b_f.ndim)\n",
    "m1c_f=np.asarray(m1c).flatten()\n",
    "print('\\n 1-dmin m3 is :\\n',m1c_f)\n"
   ]
  },
  {
   "cell_type": "code",
   "execution_count": 16,
   "metadata": {},
   "outputs": [],
   "source": [
    "# 15. Concatenate the matrix m1 and m2 in both vertical and horizontal direction"
   ]
  },
  {
   "cell_type": "code",
   "execution_count": 17,
   "metadata": {},
   "outputs": [
    {
     "name": "stdout",
     "output_type": "stream",
     "text": [
      "\n",
      " 1-dmin m1 is :\n",
      " [[50 34]\n",
      " [34 65]]\n",
      "\n",
      " 1-dmin m2 is :\n",
      " [[ 7  8]\n",
      " [23 12]]\n",
      "m1 & m2 in vertical concatenation is :\n",
      "\n",
      " [[50 34]\n",
      " [34 65]\n",
      " [ 7  8]\n",
      " [23 12]]\n",
      "\n",
      "m1 & m2 in horizontal concatenation is :\n",
      "\n",
      " [[50 34  7  8]\n",
      " [34 65 23 12]]\n"
     ]
    }
   ],
   "source": [
    "# Solution\n",
    "print('\\n 1-dmin m1 is :\\n',m1a)\n",
    "#m1b_f=m1b.flatten()\n",
    "print('\\n 1-dmin m2 is :\\n',m1b)\n",
    "m1m2_v=np.concatenate((m1a,m1b ))\n",
    "print('m1 & m2 in vertical concatenation is :\\n\\n',m1m2_v)\n",
    "\n",
    "m1m2_h=np.concatenate((m1a,m1b),axis=1)\n",
    "print('\\nm1 & m2 in horizontal concatenation is :\\n\\n',m1m2_h)\n"
   ]
  },
  {
   "cell_type": "markdown",
   "metadata": {},
   "source": [
    "#### 16. Add, Subtract, multiply, divide the matrixes m1 and m2"
   ]
  },
  {
   "cell_type": "code",
   "execution_count": 18,
   "metadata": {},
   "outputs": [
    {
     "name": "stdout",
     "output_type": "stream",
     "text": [
      "m1 is \n",
      " [[50 34]\n",
      " [34 65]]\n",
      "\n",
      "m2 is \n",
      " [[ 7  8]\n",
      " [23 12]]\n",
      "\n",
      "m1 + m2 is :\n",
      " [[57 42]\n",
      " [57 77]]\n",
      "\n",
      "m1 - m2 is :\n",
      " [[43 26]\n",
      " [11 53]]\n",
      "\n",
      "m1 * m2 is :\n",
      " [[1132  808]\n",
      " [1733 1052]]\n",
      "\n",
      "m1 / m2 is :\n",
      " [[7.14285714 4.25      ]\n",
      " [1.47826087 5.41666667]]\n"
     ]
    }
   ],
   "source": [
    "# Solution\n",
    "print('m1 is \\n',m1a)\n",
    "print('\\nm2 is \\n',m1b)\n",
    "m1m2_add= np.array(m1a + m1b)\n",
    "print('\\nm1 + m2 is :\\n',m1m2_add)\n",
    "\n",
    "m1m2_sub= np.array(m1a - m1b)\n",
    "print('\\nm1 - m2 is :\\n',m1m2_sub)\n",
    "\n",
    "m1m2_prd= np.array(m1a * m1b)\n",
    "print('\\nm1 * m2 is :\\n',m1m2_prd)\n",
    "\n",
    "m1m2_div= np.array(m1a / m1b)\n",
    "print('\\nm1 / m2 is :\\n',m1m2_div)\n",
    "\n"
   ]
  },
  {
   "cell_type": "markdown",
   "metadata": {},
   "source": [
    "#### 17. Add the m1 with m3 by removing the first row and last column of m3"
   ]
  },
  {
   "cell_type": "code",
   "execution_count": 19,
   "metadata": {},
   "outputs": [
    {
     "name": "stdout",
     "output_type": "stream",
     "text": [
      "m3 matrix is :\n",
      " [[ 3 76  3]\n",
      " [ 6 54  6]\n",
      " [ 8  5  8]]\n",
      "\n",
      "m1 matrix is :\n",
      " [[50 34]\n",
      " [34 65]]\n",
      "\n",
      "m3 minus 1st row & last column is m3a:\n",
      " [[ 6 54]\n",
      " [ 8  5]]\n",
      "\n",
      "m3a + m1 is :\n",
      " [[56 88]\n",
      " [42 70]]\n"
     ]
    }
   ],
   "source": [
    "# Solution\n",
    "print('m3 matrix is :\\n',m1c)\n",
    "print('\\nm1 matrix is :\\n',m1a)\n",
    "m3a= m1c[1:,:2]\n",
    "print('\\nm3 minus 1st row & last column is m3a:\\n',m3a)\n",
    "\n",
    "\n",
    "\n",
    "m1m3a_add = m1a+m3a\n",
    "print('\\nm3a + m1 is :\\n',m1m3a_add)\n",
    "\n"
   ]
  },
  {
   "cell_type": "markdown",
   "metadata": {},
   "source": [
    "#### 18. Form the matrix m4 by concatenating (as a new row) the vector [me1, me2] with the matrix m1, where me1 and me2 are the mean values of each column on m1."
   ]
  },
  {
   "cell_type": "code",
   "execution_count": 20,
   "metadata": {},
   "outputs": [
    {
     "name": "stdout",
     "output_type": "stream",
     "text": [
      "m1 is :\n",
      " [[50 34]\n",
      " [34 65]]\n",
      "\n",
      " mean of m1 columns is :\n",
      " [[42.  49.5]]\n",
      "\n",
      "m4 with new column added to m1 is :\n",
      " [[50.  34. ]\n",
      " [34.  65. ]\n",
      " [42.  49.5]]\n"
     ]
    }
   ],
   "source": [
    "# Solution\n",
    "print('m1 is :\\n',m1a)\n",
    "m1a1_mean= m1a.mean(axis=0)\n",
    "print('\\n mean of m1 columns is :\\n',m1a1_mean)\n",
    "\n",
    "m4=np.vstack((m1a,m1a1_mean))\n",
    "print('\\nm4 with new column added to m1 is :\\n',m4)\n"
   ]
  },
  {
   "cell_type": "markdown",
   "metadata": {},
   "source": [
    "#### 19. Perform the matrix multiplication between m3 and m4"
   ]
  },
  {
   "cell_type": "code",
   "execution_count": 21,
   "metadata": {},
   "outputs": [
    {
     "name": "stdout",
     "output_type": "stream",
     "text": [
      "m3 matrix is :\n",
      " [[ 3 76  3]\n",
      " [ 6 54  6]\n",
      " [ 8  5  8]]\n",
      "\n",
      "m4 matrix is :\n",
      " [[50.  34. ]\n",
      " [34.  65. ]\n",
      " [42.  49.5]]\n",
      "\n",
      "m3 * m4 is : \n",
      " [[2860.  5190.5]\n",
      " [2388.  4011. ]\n",
      " [ 906.   993. ]]\n"
     ]
    }
   ],
   "source": [
    "# Solution\n",
    "print('m3 matrix is :\\n',m1c)\n",
    "print('\\nm4 matrix is :\\n',m4)\n",
    "m1cm4_prod = np.array(m1c*m4)\n",
    "print('\\nm3 * m4 is : \\n',m1cm4_prod)\n",
    "\n"
   ]
  },
  {
   "cell_type": "markdown",
   "metadata": {},
   "source": [
    "#### 20. Compute the maximum and minimum value of mean, variance, standard deviation for each row of matrix created in question number 8."
   ]
  },
  {
   "cell_type": "code",
   "execution_count": 22,
   "metadata": {},
   "outputs": [
    {
     "name": "stdout",
     "output_type": "stream",
     "text": [
      "matrix m1 created in qn.8 is :\n",
      " [[ 9 25 50 34 45]\n",
      " [ 3 34 34 65  2]\n",
      " [ 5  7  3 76  3]\n",
      " [ 7  8  6 54  6]\n",
      " [23 12  8  5  8]]\n",
      "\n",
      " mean of each row of m1 is :\n",
      " [[32.6]\n",
      " [27.6]\n",
      " [18.8]\n",
      " [16.2]\n",
      " [11.2]]\n",
      "\n",
      " min of mean is :\n",
      " 11.2\n",
      "\n",
      " max of mean is :\n",
      " 32.6\n",
      "\n",
      " variance of each row of m1 is :\n",
      " [[214.64]\n",
      " [548.24]\n",
      " [820.16]\n",
      " [357.76]\n",
      " [ 39.76]]\n",
      "\n",
      " min of var is :\n",
      " 39.760000000000005\n",
      "\n",
      " max of var is :\n",
      " 820.1600000000001\n",
      "\n",
      " std deviation of each row of m1 is :\n",
      " [[14.65059726]\n",
      " [23.41452541]\n",
      " [28.63843571]\n",
      " [18.91454467]\n",
      " [ 6.30555311]]\n",
      "\n",
      " min of std dev is :\n",
      " 39.760000000000005\n",
      "\n",
      " max of std dev is :\n",
      " 820.1600000000001\n"
     ]
    }
   ],
   "source": [
    "# Solution\n",
    "print ('matrix m1 created in qn.8 is :\\n',m1)\n",
    "\n",
    "m1_row_mean=np.mean(m1,axis=1)\n",
    "print('\\n mean of each row of m1 is :\\n',m1_row_mean)\n",
    "print('\\n min of mean is :\\n',m1_row_mean.min())\n",
    "print('\\n max of mean is :\\n',m1_row_mean.max())\n",
    "\n",
    "m1_row_var= np.var(m1,axis=1)\n",
    "print('\\n variance of each row of m1 is :\\n',m1_row_var)\n",
    "print('\\n min of var is :\\n',m1_row_var.min())\n",
    "print('\\n max of var is :\\n',m1_row_var.max())\n",
    "\n",
    "m1_row_std= np.std(m1,axis=1)\n",
    "print('\\n std deviation of each row of m1 is :\\n',m1_row_std)\n",
    "print('\\n min of std dev is :\\n',m1_row_var.min())\n",
    "print('\\n max of std dev is :\\n',m1_row_var.max())"
   ]
  },
  {
   "cell_type": "markdown",
   "metadata": {},
   "source": [
    "#### 21. Compute the average and strike rate for each player and sort it decending way (seperately for avg and strike rate)\n",
    "<img src = 'crick1.png'>"
   ]
  },
  {
   "cell_type": "code",
   "execution_count": 23,
   "metadata": {},
   "outputs": [
    {
     "name": "stdout",
     "output_type": "stream",
     "text": [
      "\n",
      " Players are :\n",
      " ['MSD' 'KHO' 'ROH' 'RAH' 'DHA']\n",
      "\n",
      " Runs matrix is :\n",
      " [[ 54  60  10  65]\n",
      " [102   2  78  32]\n",
      " [  3 110   1  92]\n",
      " [ 56   6  12  42]\n",
      " [ 12   8  22  11]]\n",
      "\n",
      " Balls matrix is :\n",
      " [[ 50  42  22  78]\n",
      " [ 95   8  65  43]\n",
      " [  9 100   7 101]\n",
      " [ 27   3  11  31]\n",
      " [ 24  20  36  27]]\n",
      "\n",
      " Runs Average of playes are : \n",
      " [47.25 53.5  51.5  29.   13.25]\n",
      "\n",
      " Average in \"descending\" order is :\n",
      " [53.5  51.5  47.25 29.   13.25]\n",
      "\n",
      " Total runs per player  is : \n",
      " [189 214 206 116  53]\n",
      "\n",
      " Total balls per player is :\n",
      " [192 211 217  72 107]\n",
      "\n",
      "Strike rate of players are :\n",
      " [ 98.4375     101.42180095  94.93087558 161.11111111  49.53271028]\n",
      "\n",
      " Strike rate of players in \"desceding\" order is :\n",
      " [161.11111111 101.42180095  98.4375      94.93087558  49.53271028]\n"
     ]
    }
   ],
   "source": [
    "# Solution \n",
    "p=np.array(['MSD','KHO','ROH','RAH','DHA'])\n",
    "print('\\n Players are :\\n',p)\n",
    "r=np.array([54,60,10,65,102,2,78,32,3,110,1,92,56,6,12,42,12,8,22,11],dtype='i')\n",
    "runs=r.reshape(5,4)\n",
    "print('\\n Runs matrix is :\\n',runs)\n",
    "b=np.array([50,42,22,78,95,8,65,43,9,100,7,101,27,3,11,31,24,20,36,27],dtype='i')\n",
    "balls=b.reshape(5,4)\n",
    "print('\\n Balls matrix is :\\n',balls)\n",
    "\n",
    "a_rate= np.mean(runs,axis=1)\n",
    "print('\\n Runs Average of playes are : \\n',a_rate)\n",
    "a_rate_s=np.sort(a_rate)[::-1]\n",
    "print('\\n Average in \"descending\" order is :\\n',a_rate_s)\n",
    "\n",
    "avg_rate = np.concatenate((p,a_rate),axis=0)\n",
    "#print(player_s_rate)\n",
    "pl_avg=avg_rate.reshape(2,5)\n",
    "#print(strike_rate)\n",
    "#print('\\n Runs Average of playes are : \\n\\n',pl_avg)\n",
    "avg=pl_avg.T\n",
    "#avg_s=avg.argsort() \n",
    "#print('\\n Runs Average of playes are : \\n\\n',avg)\n",
    "\n",
    "t_balls = np.sum(balls,axis=1)\n",
    "t_runs  = np.sum(runs,axis=1)\n",
    "print('\\n Total runs per player  is : \\n',t_runs)\n",
    "print('\\n Total balls per player is :\\n',t_balls)\n",
    "\n",
    "s_rate = np.array((t_runs/t_balls)*100)\n",
    "print('\\nStrike rate of players are :\\n',s_rate)\n",
    "\n",
    "s_rate_s=np.sort(s_rate)[::-1]\n",
    "print('\\n Strike rate of players in \"desceding\" order is :\\n',s_rate_s)"
   ]
  },
  {
   "cell_type": "markdown",
   "metadata": {},
   "source": [
    "#### 22. The students mark was recorded in a numpy array: marks = np.array([65,84,47,56,89,98,48,77,80,39]).  Cutoff for pass is 50 marks. Write the logic to print the number of students passed and failed. "
   ]
  },
  {
   "cell_type": "code",
   "execution_count": 24,
   "metadata": {},
   "outputs": [
    {
     "name": "stdout",
     "output_type": "stream",
     "text": [
      "\n",
      "List of marks is :\n",
      " [65 84 47 56 89 98 48 77 80 39]\n",
      "\n",
      "Num of students passed is : 7\n",
      "\n",
      "Num of students failed is: 3\n"
     ]
    }
   ],
   "source": [
    "# Solution\n",
    "marks = np.array([65,84,47,56,89,98,48,77,80,39])\n",
    "print('\\nList of marks is :\\n',marks)\n",
    "\n",
    "p=np.where(marks>=50)\n",
    "pass_list = np.array(marks[p])\n",
    "print('\\nNum of students passed is :',pass_list.size)\n",
    "           \n",
    "f=np.where(marks<50)\n",
    "fail_list = np.array(marks[f])\n",
    "print('\\nNum of students failed is:',fail_list.size)\n"
   ]
  },
  {
   "cell_type": "markdown",
   "metadata": {},
   "source": [
    "#### 23. The class incharge decided to give a mercy mark of 5 for those who scored between 45 and 49. Also the bonus of 5 marks awarded to the students who scored more than 80. Print all the student marks and compute the increase in the pass percentage of class. Any score more than 100 must be recorded as only 100."
   ]
  },
  {
   "cell_type": "code",
   "execution_count": 25,
   "metadata": {},
   "outputs": [
    {
     "name": "stdout",
     "output_type": "stream",
     "text": [
      "\n",
      "initial list is :\n",
      " [65 84 47 56 89 98 48 77 80 39]\n",
      "\n",
      " Final list with grace and bonus applied is \n",
      " [ 65  89  52  56  94 100  53  77  80  39]\n",
      "\n",
      "old pass total is : 7\n",
      "\n",
      "new pass total is : 9\n",
      "\n",
      "class pass percentage is: 28.57142857142857\n"
     ]
    }
   ],
   "source": [
    "# Solution\n",
    "\n",
    "marks = np.array([65,84,47,56,89,98,48,77,80,39])\n",
    "marks_initial = np.copy(marks)\n",
    "print('\\ninitial list is :\\n',marks)\n",
    "\n",
    "#grace mark calculation\n",
    "grace_list = np.where(np.logical_and(marks>=45,marks<=49))\n",
    "\n",
    "for i in grace_list:\n",
    "    marks[i]= marks[i]+5\n",
    "\n",
    "#bonus calculation\n",
    "bonus_list = list(np.where(marks>80))[0]\n",
    "for k in bonus_list:\n",
    "        marks[k]= marks[k] + 5\n",
    "        if marks[k] > 100:\n",
    "            marks[k] = 100\n",
    "\n",
    "print('\\n Final list with grace and bonus applied is \\n',marks)\n",
    "\n",
    "#pass percentatge calculation\n",
    "\n",
    "o_pass= marks[np.where(marks_initial>=50)]\n",
    "old_tot=o_pass.size\n",
    "print('\\nold pass total is :',old_tot)\n",
    "\n",
    "n_pass= marks[np.where(marks>=50)]\n",
    "new_tot=n_pass.size\n",
    "print('\\nnew pass total is :',new_tot)\n",
    "\n",
    "#pass_perc = ((new_tot - old_tot)/old_tot)*100\n",
    "print('\\nclass pass percentage is:',((new_tot - old_tot)/old_tot)*100)\n"
   ]
  },
  {
   "cell_type": "markdown",
   "metadata": {},
   "source": [
    "#### 24. Print the time taken for performing the following operation using list and numpy array\n",
    "####       (x(i)^2 +8) / y(i),   where x and y are real integers from 1 to 60000"
   ]
  },
  {
   "cell_type": "code",
   "execution_count": 26,
   "metadata": {},
   "outputs": [
    {
     "name": "stdout",
     "output_type": "stream",
     "text": [
      "\n",
      "List processing time is : 0.038443803787231445\n",
      "\n",
      "array processing time is: 0.024729251861572266\n"
     ]
    }
   ],
   "source": [
    "# Solution\n",
    "\n",
    "\n",
    "import numpy as np\n",
    "import time\n",
    "\n",
    "\n",
    "lx= list(range(1,60000))\n",
    "ly= list(range(1,60000))\n",
    "\n",
    "start_l_time = time.time()\n",
    "lz=[(x**2+8/y) for x ,y in zip(lx,ly)]\n",
    "#print(lz)\n",
    "total_l_time = time.time()-start_l_time\n",
    "print('\\nList processing time is :', total_l_time)\n",
    "\n",
    "start_a_time = time.time()\n",
    "ax= np.array(range(1,60000))\n",
    "ay= np.array(range(1,60000))\n",
    "az= ax**2+8/ay\n",
    "#print(az)\n",
    "total_a_time=time.time()-start_a_time\n",
    "print('\\narray processing time is:',total_a_time)\n"
   ]
  },
  {
   "cell_type": "markdown",
   "metadata": {},
   "source": [
    "#### 25. Create a Github account and upload your solution with the short write-up on Numpy"
   ]
  },
  {
   "cell_type": "code",
   "execution_count": 27,
   "metadata": {},
   "outputs": [
    {
     "ename": "SyntaxError",
     "evalue": "invalid syntax (<ipython-input-27-751fb1e4c31e>, line 3)",
     "output_type": "error",
     "traceback": [
      "\u001b[0;36m  File \u001b[0;32m\"<ipython-input-27-751fb1e4c31e>\"\u001b[0;36m, line \u001b[0;32m3\u001b[0m\n\u001b[0;31m    https://github.com/ggeorge6/NumPy\u001b[0m\n\u001b[0m          ^\u001b[0m\n\u001b[0;31mSyntaxError\u001b[0m\u001b[0;31m:\u001b[0m invalid syntax\n"
     ]
    }
   ],
   "source": [
    "# Solution\n",
    "\n",
    "https://github.com/ggeorge6/NumPy\n",
    "\n"
   ]
  }
 ],
 "metadata": {
  "kernelspec": {
   "display_name": "Python 3",
   "language": "python",
   "name": "python3"
  },
  "language_info": {
   "codemirror_mode": {
    "name": "ipython",
    "version": 3
   },
   "file_extension": ".py",
   "mimetype": "text/x-python",
   "name": "python",
   "nbconvert_exporter": "python",
   "pygments_lexer": "ipython3",
   "version": "3.8.8"
  }
 },
 "nbformat": 4,
 "nbformat_minor": 2
}
